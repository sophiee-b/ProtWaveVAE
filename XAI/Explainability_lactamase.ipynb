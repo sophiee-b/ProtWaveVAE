{
 "cells": [
  {
   "cell_type": "code",
   "execution_count": 1,
   "id": "1b066cea-9851-465b-9176-9da4a1a5dcad",
   "metadata": {},
   "outputs": [
    {
     "name": "stdout",
     "output_type": "stream",
     "text": [
      "/storage/ice1/6/9/khari8/condaProtein/vqvae/ProtWaveVAE/Pfam_analysis\n",
      "/storage/ice1/6/9/khari8/condaProtein/vqvae/ProtWaveVAE/Pfam_analysis\n"
     ]
    },
    {
     "name": "stderr",
     "output_type": "stream",
     "text": [
      "/home/hice1/khari8/.conda/envs/pySCAenv/lib/python3.12/site-packages/IPython/core/magics/osm.py:417: UserWarning: This is now an optional IPython functionality, setting dhist requires you to install the `pickleshare` library.\n",
      "  self.shell.db['dhist'] = compress_dhist(dhist)[-100:]\n"
     ]
    }
   ],
   "source": [
    "#Explainability in InfoMax VAE\n",
    "#First part using captum\n",
    "#For G protein family\n",
    "\n",
    "%cd ProtWaveVAE/Pfam_analysis/\n",
    "!pwd"
   ]
  },
  {
   "cell_type": "code",
   "execution_count": 2,
   "id": "b189e08c-9a72-4e37-b0a7-ab9db491f36b",
   "metadata": {},
   "outputs": [
    {
     "name": "stdout",
     "output_type": "stream",
     "text": [
      "Requirement already satisfied: captum in /home/hice1/khari8/.conda/envs/pySCAenv/lib/python3.12/site-packages (0.7.0)\n",
      "Requirement already satisfied: matplotlib in /home/hice1/khari8/.local/lib/python3.12/site-packages (from captum) (3.9.2)\n",
      "Requirement already satisfied: numpy in /home/hice1/khari8/.conda/envs/pySCAenv/lib/python3.12/site-packages (from captum) (1.26.4)\n",
      "Requirement already satisfied: torch>=1.6 in /home/hice1/khari8/.conda/envs/pySCAenv/lib/python3.12/site-packages (from captum) (2.5.1)\n",
      "Requirement already satisfied: tqdm in /home/hice1/khari8/.conda/envs/pySCAenv/lib/python3.12/site-packages (from captum) (4.67.1)\n",
      "Requirement already satisfied: filelock in /home/hice1/khari8/.conda/envs/pySCAenv/lib/python3.12/site-packages (from torch>=1.6->captum) (3.16.1)\n",
      "Requirement already satisfied: typing-extensions>=4.8.0 in /home/hice1/khari8/.conda/envs/pySCAenv/lib/python3.12/site-packages (from torch>=1.6->captum) (4.12.2)\n",
      "Requirement already satisfied: networkx in /home/hice1/khari8/.conda/envs/pySCAenv/lib/python3.12/site-packages (from torch>=1.6->captum) (3.4.2)\n",
      "Requirement already satisfied: jinja2 in /home/hice1/khari8/.conda/envs/pySCAenv/lib/python3.12/site-packages (from torch>=1.6->captum) (3.1.4)\n",
      "Requirement already satisfied: fsspec in /home/hice1/khari8/.conda/envs/pySCAenv/lib/python3.12/site-packages (from torch>=1.6->captum) (2024.10.0)\n",
      "Requirement already satisfied: nvidia-cuda-nvrtc-cu12==12.4.127 in /home/hice1/khari8/.conda/envs/pySCAenv/lib/python3.12/site-packages (from torch>=1.6->captum) (12.4.127)\n",
      "Requirement already satisfied: nvidia-cuda-runtime-cu12==12.4.127 in /home/hice1/khari8/.conda/envs/pySCAenv/lib/python3.12/site-packages (from torch>=1.6->captum) (12.4.127)\n",
      "Requirement already satisfied: nvidia-cuda-cupti-cu12==12.4.127 in /home/hice1/khari8/.conda/envs/pySCAenv/lib/python3.12/site-packages (from torch>=1.6->captum) (12.4.127)\n",
      "Requirement already satisfied: nvidia-cudnn-cu12==9.1.0.70 in /home/hice1/khari8/.conda/envs/pySCAenv/lib/python3.12/site-packages (from torch>=1.6->captum) (9.1.0.70)\n",
      "Requirement already satisfied: nvidia-cublas-cu12==12.4.5.8 in /home/hice1/khari8/.conda/envs/pySCAenv/lib/python3.12/site-packages (from torch>=1.6->captum) (12.4.5.8)\n",
      "Requirement already satisfied: nvidia-cufft-cu12==11.2.1.3 in /home/hice1/khari8/.conda/envs/pySCAenv/lib/python3.12/site-packages (from torch>=1.6->captum) (11.2.1.3)\n",
      "Requirement already satisfied: nvidia-curand-cu12==10.3.5.147 in /home/hice1/khari8/.conda/envs/pySCAenv/lib/python3.12/site-packages (from torch>=1.6->captum) (10.3.5.147)\n",
      "Requirement already satisfied: nvidia-cusolver-cu12==11.6.1.9 in /home/hice1/khari8/.conda/envs/pySCAenv/lib/python3.12/site-packages (from torch>=1.6->captum) (11.6.1.9)\n",
      "Requirement already satisfied: nvidia-cusparse-cu12==12.3.1.170 in /home/hice1/khari8/.conda/envs/pySCAenv/lib/python3.12/site-packages (from torch>=1.6->captum) (12.3.1.170)\n",
      "Requirement already satisfied: nvidia-nccl-cu12==2.21.5 in /home/hice1/khari8/.conda/envs/pySCAenv/lib/python3.12/site-packages (from torch>=1.6->captum) (2.21.5)\n",
      "Requirement already satisfied: nvidia-nvtx-cu12==12.4.127 in /home/hice1/khari8/.conda/envs/pySCAenv/lib/python3.12/site-packages (from torch>=1.6->captum) (12.4.127)\n",
      "Requirement already satisfied: nvidia-nvjitlink-cu12==12.4.127 in /home/hice1/khari8/.conda/envs/pySCAenv/lib/python3.12/site-packages (from torch>=1.6->captum) (12.4.127)\n",
      "Requirement already satisfied: triton==3.1.0 in /home/hice1/khari8/.conda/envs/pySCAenv/lib/python3.12/site-packages (from torch>=1.6->captum) (3.1.0)\n",
      "Requirement already satisfied: setuptools in /home/hice1/khari8/.conda/envs/pySCAenv/lib/python3.12/site-packages (from torch>=1.6->captum) (75.1.0)\n",
      "Requirement already satisfied: sympy==1.13.1 in /home/hice1/khari8/.conda/envs/pySCAenv/lib/python3.12/site-packages (from torch>=1.6->captum) (1.13.1)\n",
      "Requirement already satisfied: mpmath<1.4,>=1.1.0 in /home/hice1/khari8/.conda/envs/pySCAenv/lib/python3.12/site-packages (from sympy==1.13.1->torch>=1.6->captum) (1.3.0)\n",
      "Requirement already satisfied: contourpy>=1.0.1 in /home/hice1/khari8/.local/lib/python3.12/site-packages (from matplotlib->captum) (1.3.1)\n",
      "Requirement already satisfied: cycler>=0.10 in /home/hice1/khari8/.local/lib/python3.12/site-packages (from matplotlib->captum) (0.12.1)\n",
      "Requirement already satisfied: fonttools>=4.22.0 in /home/hice1/khari8/.local/lib/python3.12/site-packages (from matplotlib->captum) (4.55.0)\n",
      "Requirement already satisfied: kiwisolver>=1.3.1 in /home/hice1/khari8/.local/lib/python3.12/site-packages (from matplotlib->captum) (1.4.7)\n",
      "Requirement already satisfied: packaging>=20.0 in /home/hice1/khari8/.local/lib/python3.12/site-packages (from matplotlib->captum) (24.2)\n",
      "Requirement already satisfied: pillow>=8 in /home/hice1/khari8/.local/lib/python3.12/site-packages (from matplotlib->captum) (11.0.0)\n",
      "Requirement already satisfied: pyparsing>=2.3.1 in /home/hice1/khari8/.local/lib/python3.12/site-packages (from matplotlib->captum) (3.2.0)\n",
      "Requirement already satisfied: python-dateutil>=2.7 in /home/hice1/khari8/.local/lib/python3.12/site-packages (from matplotlib->captum) (2.9.0.post0)\n",
      "Requirement already satisfied: six>=1.5 in /home/hice1/khari8/.local/lib/python3.12/site-packages (from python-dateutil>=2.7->matplotlib->captum) (1.16.0)\n",
      "Requirement already satisfied: MarkupSafe>=2.0 in /home/hice1/khari8/.conda/envs/pySCAenv/lib/python3.12/site-packages (from jinja2->torch>=1.6->captum) (3.0.2)\n",
      "Requirement already satisfied: seaborn in /home/hice1/khari8/.conda/envs/pySCAenv/lib/python3.12/site-packages (0.13.2)\n",
      "Requirement already satisfied: numpy!=1.24.0,>=1.20 in /home/hice1/khari8/.conda/envs/pySCAenv/lib/python3.12/site-packages (from seaborn) (1.26.4)\n",
      "Requirement already satisfied: pandas>=1.2 in /home/hice1/khari8/.conda/envs/pySCAenv/lib/python3.12/site-packages (from seaborn) (2.2.2)\n",
      "Requirement already satisfied: matplotlib!=3.6.1,>=3.4 in /home/hice1/khari8/.local/lib/python3.12/site-packages (from seaborn) (3.9.2)\n",
      "Requirement already satisfied: contourpy>=1.0.1 in /home/hice1/khari8/.local/lib/python3.12/site-packages (from matplotlib!=3.6.1,>=3.4->seaborn) (1.3.1)\n",
      "Requirement already satisfied: cycler>=0.10 in /home/hice1/khari8/.local/lib/python3.12/site-packages (from matplotlib!=3.6.1,>=3.4->seaborn) (0.12.1)\n",
      "Requirement already satisfied: fonttools>=4.22.0 in /home/hice1/khari8/.local/lib/python3.12/site-packages (from matplotlib!=3.6.1,>=3.4->seaborn) (4.55.0)\n",
      "Requirement already satisfied: kiwisolver>=1.3.1 in /home/hice1/khari8/.local/lib/python3.12/site-packages (from matplotlib!=3.6.1,>=3.4->seaborn) (1.4.7)\n",
      "Requirement already satisfied: packaging>=20.0 in /home/hice1/khari8/.local/lib/python3.12/site-packages (from matplotlib!=3.6.1,>=3.4->seaborn) (24.2)\n",
      "Requirement already satisfied: pillow>=8 in /home/hice1/khari8/.local/lib/python3.12/site-packages (from matplotlib!=3.6.1,>=3.4->seaborn) (11.0.0)\n",
      "Requirement already satisfied: pyparsing>=2.3.1 in /home/hice1/khari8/.local/lib/python3.12/site-packages (from matplotlib!=3.6.1,>=3.4->seaborn) (3.2.0)\n",
      "Requirement already satisfied: python-dateutil>=2.7 in /home/hice1/khari8/.local/lib/python3.12/site-packages (from matplotlib!=3.6.1,>=3.4->seaborn) (2.9.0.post0)\n",
      "Requirement already satisfied: pytz>=2020.1 in /home/hice1/khari8/.conda/envs/pySCAenv/lib/python3.12/site-packages (from pandas>=1.2->seaborn) (2024.1)\n",
      "Requirement already satisfied: tzdata>=2022.7 in /home/hice1/khari8/.conda/envs/pySCAenv/lib/python3.12/site-packages (from pandas>=1.2->seaborn) (2023.3)\n",
      "Requirement already satisfied: six>=1.5 in /home/hice1/khari8/.local/lib/python3.12/site-packages (from python-dateutil>=2.7->matplotlib!=3.6.1,>=3.4->seaborn) (1.16.0)\n"
     ]
    }
   ],
   "source": [
    "!pip install captum\n",
    "!pip install seaborn"
   ]
  },
  {
   "cell_type": "code",
   "execution_count": null,
   "id": "4e0d8849-0a98-4e50-ac51-8e048c50f371",
   "metadata": {},
   "outputs": [],
   "source": [
    "import torch\n",
    "from torch.utils.data import DataLoader, Dataset\n",
    "import shap\n",
    "from shap import DeepExplainer\n",
    "from sklearn.model_selection import train_test_split\n",
    "import matplotlib.pyplot as plt\n",
    "import seaborn as sns\n",
    "import numpy as np\n",
    "\n",
    "from train_on_pfam import call_model\n",
    "from generate_samples import load_weights\n",
    "from source.pfam_preprocess import prepare_Gprotein_dataset\n",
    "import source.pfam_preprocess as pfam_prep"
   ]
  },
  {
   "cell_type": "code",
   "execution_count": null,
   "id": "da19b24e-cdb7-464e-bb53-95d696835ecd",
   "metadata": {},
   "outputs": [],
   "source": [
    "# Define arguments (matching the training configuration)\n",
    "class Args:\n",
    "    DEVICE = 'cuda' if torch.cuda.is_available() else 'cpu'\n",
    "    class_labels = 21\n",
    "    z_dim = 3\n",
    "    encoder_rates = 0\n",
    "    C_in = 21\n",
    "    C_out = 512\n",
    "    alpha = 0.1\n",
    "    enc_kernel = 3\n",
    "    num_fc = 1\n",
    "    wave_hidden_state = 128\n",
    "    head_hidden_state = 512\n",
    "    num_dil_rates = 7\n",
    "    dec_kernel_size = 3\n",
    "    lr = 1e-4\n",
    "    xi_weight = 1\n",
    "    alpha_weight = 0.99\n",
    "    lambda_weight = 10\n",
    "    alignment = False\n",
    "    learning_option = 'unsupervised'\n",
    "\n",
    "args = Args()\n",
    "\n",
    "# Set protein length based on the dataset\n",
    "protein_len = 199  # Replace with actual sequence length if known"
   ]
  },
  {
   "cell_type": "code",
   "execution_count": null,
   "id": "47b6910b-9fa9-42e3-8ad4-342bf127c030",
   "metadata": {},
   "outputs": [],
   "source": [
    "# Construct the model\n",
    "model = call_model(args, protein_len=protein_len).model\n",
    "\n",
    "# Load weights\n",
    "weights_path = './outputs/train_sess/pfam/lactamase/lacta_model.pth'\n",
    "args.weights_path = weights_path\n",
    "model = load_weights(args, model)\n",
    "\n",
    "# Set the model to evaluation mode\n",
    "model.eval()\n",
    "\n",
    "# Test with dummy input\n",
    "dummy_input = torch.zeros((1, protein_len, args.C_in)).to(args.DEVICE)\n",
    "output = model(dummy_input)\n",
    "\n",
    "# Verify output\n",
    "print(\"Model output shape:\", output[0].shape)"
   ]
  },
  {
   "cell_type": "code",
   "execution_count": null,
   "id": "c436acef-20a0-4aba-8994-9f4dcf4ccd0c",
   "metadata": {},
   "outputs": [],
   "source": [
    "# Preprocess the G-protein data\n",
    "train_data_path = \"./data/protein_families/lactamase/pfam_lactamase.csv\"\n",
    "train_seq_num, train_seq_OH = prepare_Gprotein_dataset(train_data_path, alignment=False)\n",
    "test_data_path = \"./outputs/prediction/pfam/lactamase/lactamase_sample_sequences.csv\"\n",
    "test_seq_num, test_seq_OH = prepare_Gprotein_dataset(test_data_path, alignment=False)"
   ]
  },
  {
   "cell_type": "code",
   "execution_count": null,
   "id": "17bbae86-5a75-46e9-a92d-d6c06bc4bf96",
   "metadata": {},
   "outputs": [],
   "source": [
    "train_seq_OH.shape"
   ]
  },
  {
   "cell_type": "code",
   "execution_count": null,
   "id": "3d0deaf6-34a5-4f5b-8d7e-800a15351e9d",
   "metadata": {},
   "outputs": [],
   "source": [
    "encoder_model = model.inference\n",
    "#decoder_model = model.generator"
   ]
  },
  {
   "cell_type": "code",
   "execution_count": null,
   "id": "df73e88d-361d-434d-9307-dbb88938a8ca",
   "metadata": {},
   "outputs": [],
   "source": [
    "training_data = torch.tensor(train_seq_OH[:100], dtype = torch.float32)\n",
    "test_data = torch.tensor(train_seq_OH[100:110], dtype = torch.float32)\n",
    "training_data = training_data.to(args.DEVICE)\n",
    "test_data = test_data.to(args.DEVICE)\n",
    "encoder_model.to(args.DEVICE)\n",
    "#decoder_model.to(args.DEVICE)"
   ]
  },
  {
   "cell_type": "code",
   "execution_count": null,
   "id": "ab437c43-f9b9-4411-8a6b-a8791a0693f1",
   "metadata": {},
   "outputs": [],
   "source": [
    "class SHAPWrapper(torch.nn.Module):\n",
    "    def __init__(self, model):\n",
    "        super(SHAPWrapper, self).__init__()\n",
    "        self.model = model\n",
    "        self.model.eval()\n",
    "\n",
    "    def forward(self, x):\n",
    "        return self.model(x)[0]  # Extract the first element of the tuple\n",
    "\n",
    "wrapped_model = SHAPWrapper(encoder_model)"
   ]
  },
  {
   "cell_type": "code",
   "execution_count": null,
   "id": "58b9c1c0-c163-4363-8a93-c7cb1fd076da",
   "metadata": {},
   "outputs": [],
   "source": [
    "#mapping for proteins\n",
    "protein_string = ['A','C','D','E','F','G','H','I','K','L','M','N','P','Q','R','T','V','W','Y','-']"
   ]
  },
  {
   "cell_type": "code",
   "execution_count": null,
   "id": "a88bb0ac-8fce-4597-bb7f-d6f0f28369b7",
   "metadata": {},
   "outputs": [],
   "source": [
    "from captum.attr import IntegratedGradients\n",
    "ig = IntegratedGradients(wrapped_model)\n",
    "attributions0, delta0 = ig.attribute(training_data.permute(0,2,1), target=0, return_convergence_delta=True)\n",
    "attribution_map0 = attributions0.sum(axis=0).cpu().numpy()  # Sum over test data\n",
    "sns.heatmap(attribution_map0, yticklabels = protein_string, cmap='seismic', center=0)\n",
    "plt.title(\"Integrated Gradients Attributions\")\n",
    "plt.show()\n"
   ]
  },
  {
   "cell_type": "code",
   "execution_count": null,
   "id": "f12d6105-101f-479b-8bb4-6ea0878a9c1d",
   "metadata": {},
   "outputs": [],
   "source": [
    "from captum.attr import IntegratedGradients\n",
    "ig = IntegratedGradients(wrapped_model)\n",
    "attributions1, delta1 = ig.attribute(training_data.permute(0,2,1), target=1, return_convergence_delta=True)\n",
    "attribution_map1 = attributions1.sum(axis=0).cpu().numpy()  # Sum over test data\n",
    "sns.heatmap(attribution_map1, yticklabels = protein_string, cmap='seismic', center=0)\n",
    "plt.title(\"Integrated Gradients Attributions\")\n",
    "plt.show()\n"
   ]
  },
  {
   "cell_type": "code",
   "execution_count": null,
   "id": "df8a7c15-adc7-43ee-9605-16e9fada8910",
   "metadata": {},
   "outputs": [],
   "source": [
    "from captum.attr import IntegratedGradients\n",
    "ig = IntegratedGradients(wrapped_model)\n",
    "attributions2, delta2 = ig.attribute(training_data.permute(0,2,1), target=2, return_convergence_delta=True)\n",
    "attribution_map2 = attributions2.sum(axis=0).cpu().numpy()  # Sum over test data\n",
    "sns.heatmap(attribution_map2, yticklabels = protein_string, cmap='seismic', center=0)\n",
    "plt.title(\"Integrated Gradients Attributions\")\n",
    "plt.show()\n"
   ]
  },
  {
   "cell_type": "code",
   "execution_count": null,
   "id": "5f26eb9d-c1cd-4980-883f-9ea6182095e4",
   "metadata": {},
   "outputs": [],
   "source": [
    "attribution_map_final = attribution_map0+attribution_map1+attribution_map2\n",
    "sns.heatmap(attribution_map_final, yticklabels = protein_string, cmap='seismic', center=0)\n",
    "plt.title(\"Integrated Gradients Attributions Final\")\n",
    "plt.show()"
   ]
  },
  {
   "cell_type": "code",
   "execution_count": null,
   "id": "b2dcf559-7b5c-421a-9870-3c192869a632",
   "metadata": {},
   "outputs": [],
   "source": [
    "from captum.attr import GradientShap\n",
    "\n",
    "reference_input = torch.zeros_like(test_data.permute(0,2,1)).to(args.DEVICE)\n",
    "\n",
    "gradient_shap = GradientShap(wrapped_model)\n",
    "\n",
    "attributions0, delta0 = gradient_shap.attribute(test_data.permute(0,2,1), baselines = reference_input, target=0, return_convergence_delta = True)\n",
    "\n",
    "attributions_values0 = attributions0.cpu().detach().numpy()\n",
    "\n",
    "plt.imshow(np.abs(attributions_values0.sum(axis=0)), cmap = 'seismic', aspect = 'auto')\n",
    "plt.yticks(range(len(protein_string)), protein_string)\n",
    "plt.colorbar()"
   ]
  },
  {
   "cell_type": "code",
   "execution_count": null,
   "id": "335c41db-49de-4cf2-bbdc-dc2a33ea4cec",
   "metadata": {},
   "outputs": [],
   "source": [
    "from captum.attr import GradientShap\n",
    "\n",
    "reference_input = torch.zeros_like(test_data.permute(0,2,1)).to(args.DEVICE)\n",
    "\n",
    "gradient_shap = GradientShap(wrapped_model)\n",
    "\n",
    "attributions1, delta1 = gradient_shap.attribute(test_data.permute(0,2,1), baselines = reference_input, target=1, return_convergence_delta = True)\n",
    "\n",
    "attributions_values1 = attributions1.cpu().detach().numpy()\n",
    "\n",
    "plt.imshow(np.abs(attributions_values1.sum(axis=0)), cmap = 'seismic', aspect = 'auto')\n",
    "plt.yticks(range(len(protein_string)), protein_string)\n",
    "plt.colorbar()"
   ]
  },
  {
   "cell_type": "code",
   "execution_count": null,
   "id": "c38c9083-856e-4590-9443-814891b33226",
   "metadata": {},
   "outputs": [],
   "source": [
    "from captum.attr import GradientShap\n",
    "\n",
    "reference_input = torch.zeros_like(test_data.permute(0,2,1)).to(args.DEVICE)\n",
    "\n",
    "gradient_shap = GradientShap(wrapped_model)\n",
    "\n",
    "attributions2, delta2 = gradient_shap.attribute(test_data.permute(0,2,1), baselines = reference_input, target=2, return_convergence_delta = True)\n",
    "\n",
    "attributions_values2 = attributions2.cpu().detach().numpy()\n",
    "\n",
    "plt.imshow(np.abs(attributions_values2.sum(axis=0)), cmap = 'seismic', aspect = 'auto')\n",
    "plt.yticks(range(len(protein_string)), protein_string)\n",
    "plt.colorbar()"
   ]
  },
  {
   "cell_type": "code",
   "execution_count": null,
   "id": "b062af46-a08d-4f1c-9774-2c79254fd653",
   "metadata": {},
   "outputs": [],
   "source": [
    "attributions_value_final = np.abs(attributions_values0.sum(axis=0))+np.abs(attributions_values1.sum(axis=0))+np.abs(attributions_values2.sum(axis=0))\n",
    "plt.imshow(attributions_value_final, cmap = 'seismic', aspect = 'auto')\n",
    "plt.yticks(range(len(protein_string)), protein_string)\n",
    "plt.colorbar()"
   ]
  },
  {
   "cell_type": "code",
   "execution_count": null,
   "id": "e4104cd3-57e8-4871-bd10-3a3fe52fbd71",
   "metadata": {},
   "outputs": [],
   "source": [
    "from captum.attr import GuidedBackprop\n",
    "\n",
    "guided_backprop = GuidedBackprop(wrapped_model)\n",
    "\n",
    "attributions0 = guided_backprop.attribute(test_data.permute(0,2,1), target=0)\n",
    "\n",
    "attributions_values0 = attributions0.cpu().detach().numpy()\n",
    "\n",
    "plt.imshow(np.abs(attributions_values0.sum(axis=0)), cmap = 'hot', aspect = 'auto')\n",
    "plt.yticks(range(len(protein_string)), protein_string)\n",
    "plt.colorbar() "
   ]
  },
  {
   "cell_type": "code",
   "execution_count": null,
   "id": "2bfca736-166d-4887-b980-e4722e37192f",
   "metadata": {},
   "outputs": [],
   "source": [
    "from captum.attr import GuidedBackprop\n",
    "\n",
    "guided_backprop = GuidedBackprop(wrapped_model)\n",
    "\n",
    "attributions1 = guided_backprop.attribute(test_data.permute(0,2,1), target=1)\n",
    "\n",
    "attributions_values1 = attributions1.cpu().detach().numpy()\n",
    "\n",
    "plt.imshow(np.abs(attributions_values1.sum(axis=0)), cmap = 'hot', aspect = 'auto')\n",
    "plt.yticks(range(len(protein_string)), protein_string)\n",
    "plt.colorbar() "
   ]
  },
  {
   "cell_type": "code",
   "execution_count": null,
   "id": "68fa8731-3caf-434b-aaf1-63505f872ca2",
   "metadata": {},
   "outputs": [],
   "source": [
    "from captum.attr import GuidedBackprop\n",
    "\n",
    "guided_backprop = GuidedBackprop(wrapped_model)\n",
    "\n",
    "attributions2 = guided_backprop.attribute(test_data.permute(0,2,1), target=2)\n",
    "\n",
    "attributions_values2 = attributions2.cpu().detach().numpy()\n",
    "\n",
    "plt.imshow(np.abs(attributions_values2.sum(axis=0)), cmap = 'hot', aspect = 'auto')\n",
    "plt.yticks(range(len(protein_string)), protein_string)\n",
    "plt.colorbar() "
   ]
  },
  {
   "cell_type": "code",
   "execution_count": null,
   "id": "cf36c16c-1814-4077-b6a1-88eecd4bcebe",
   "metadata": {},
   "outputs": [],
   "source": [
    "attributions_value_final = np.abs(attributions_values0.sum(axis=0))+np.abs(attributions_values1.sum(axis=0))+np.abs(attributions_values2.sum(axis=0))\n",
    "plt.imshow(attributions_value_final, cmap = 'seismic', aspect = 'auto')\n",
    "plt.yticks(range(len(protein_string)), protein_string)\n",
    "plt.colorbar()"
   ]
  },
  {
   "cell_type": "code",
   "execution_count": null,
   "id": "0588aaf4-ca1e-4b4d-96cb-5aec28f6868c",
   "metadata": {},
   "outputs": [],
   "source": [
    "from captum.attr import NoiseTunnel\n",
    "\n",
    "noise_tunnel = NoiseTunnel(gradient_shap)\n",
    "\n",
    "attributions0 = noise_tunnel.attribute(test_data.permute(0,2,1), baselines = reference_input,target=0)\n",
    "\n",
    "attributions_values0 = attributions0.cpu().detach().numpy()\n",
    "\n",
    "plt.imshow(np.abs(attributions_values0.sum(axis=0)), cmap = 'hot', aspect = 'auto')\n",
    "plt.yticks(range(len(protein_string)), protein_string)\n",
    "plt.colorbar() "
   ]
  },
  {
   "cell_type": "code",
   "execution_count": null,
   "id": "0e17bea0-e3f3-4d49-a932-e70f95c4d21b",
   "metadata": {},
   "outputs": [],
   "source": [
    "from captum.attr import NoiseTunnel\n",
    "\n",
    "noise_tunnel = NoiseTunnel(gradient_shap)\n",
    "\n",
    "attributions1 = noise_tunnel.attribute(test_data.permute(0,2,1), baselines = reference_input,target=1)\n",
    "\n",
    "attributions_values1 = attributions1.cpu().detach().numpy()\n",
    "\n",
    "plt.imshow(np.abs(attributions_values1.sum(axis=0)), cmap = 'hot', aspect = 'auto')\n",
    "plt.yticks(range(len(protein_string)), protein_string)\n",
    "plt.colorbar() "
   ]
  },
  {
   "cell_type": "code",
   "execution_count": null,
   "id": "0adbe8d1-1378-473d-9f57-2fc5cde144f9",
   "metadata": {},
   "outputs": [],
   "source": [
    "from captum.attr import NoiseTunnel\n",
    "\n",
    "noise_tunnel = NoiseTunnel(gradient_shap)\n",
    "\n",
    "attributions2 = noise_tunnel.attribute(test_data.permute(0,2,1), baselines = reference_input,target=2)\n",
    "\n",
    "attributions_values2 = attributions2.cpu().detach().numpy()\n",
    "\n",
    "plt.imshow(np.abs(attributions_values2.sum(axis=0)), cmap = 'hot', aspect = 'auto')\n",
    "plt.yticks(range(len(protein_string)), protein_string)\n",
    "plt.colorbar() "
   ]
  },
  {
   "cell_type": "code",
   "execution_count": null,
   "id": "eb790330-ac0f-4386-a212-4cdffb4d7f68",
   "metadata": {},
   "outputs": [],
   "source": [
    "attributions_value_final = np.abs(attributions_values0.sum(axis=0))+np.abs(attributions_values1.sum(axis=0))+np.abs(attributions_values2.sum(axis=0))\n",
    "plt.imshow(attributions_value_final, cmap = 'seismic', aspect = 'auto')\n",
    "plt.yticks(range(len(protein_string)), protein_string)\n",
    "plt.colorbar()"
   ]
  },
  {
   "cell_type": "code",
   "execution_count": null,
   "id": "3280e794-59fe-4444-82a9-b3717c4affac",
   "metadata": {},
   "outputs": [],
   "source": [
    "from captum.attr import FeatureAblation\n",
    "\n",
    "feature_ablation = FeatureAblation(wrapped_model)\n",
    "\n",
    "attributes0 = feature_ablation.attribute(test_data.permute(0,2,1), target = 0, show_progress = True)\n",
    "\n",
    "attributes0 = attributes0.cpu().detach().numpy()\n",
    "plt.imshow(np.abs(attributes0.sum(axis=0)), cmap = 'hot', aspect = 'auto')\n",
    "plt.yticks(range(len(protein_string)), protein_string)\n",
    "plt.colorbar() "
   ]
  },
  {
   "cell_type": "code",
   "execution_count": null,
   "id": "6438b3e4-fa17-4d9f-8906-93c263fa897e",
   "metadata": {},
   "outputs": [],
   "source": [
    "from captum.attr import FeatureAblation\n",
    "\n",
    "feature_ablation = FeatureAblation(wrapped_model)\n",
    "\n",
    "attributes1 = feature_ablation.attribute(test_data.permute(0,2,1), target = 1, show_progress = True)\n",
    "\n",
    "attributes1 = attributes1.cpu().detach().numpy()\n",
    "plt.imshow(np.abs(attributes1.sum(axis=0)), cmap = 'hot', aspect = 'auto')\n",
    "plt.yticks(range(len(protein_string)), protein_string)\n",
    "plt.colorbar() "
   ]
  },
  {
   "cell_type": "code",
   "execution_count": null,
   "id": "c71b12eb-d70f-4c19-8748-dbcbb4de1414",
   "metadata": {},
   "outputs": [],
   "source": [
    "from captum.attr import FeatureAblation\n",
    "\n",
    "feature_ablation = FeatureAblation(wrapped_model)\n",
    "\n",
    "attributes2 = feature_ablation.attribute(test_data.permute(0,2,1), target = 2, show_progress = True)\n",
    "\n",
    "attributes2 = attributes2.cpu().detach().numpy()\n",
    "plt.imshow(np.abs(attributes2.sum(axis=0)), cmap = 'hot', aspect = 'auto')\n",
    "plt.yticks(range(len(protein_string)), protein_string)\n",
    "plt.colorbar() "
   ]
  },
  {
   "cell_type": "code",
   "execution_count": null,
   "id": "97d412d2-3003-4f8a-a24f-8d89be9f5f07",
   "metadata": {},
   "outputs": [],
   "source": [
    "attributions_value_final = np.abs(attributions_values0.sum(axis=0))+np.abs(attributions_values1.sum(axis=0))+np.abs(attributions_values2.sum(axis=0))\n",
    "plt.imshow(attributions_value_final, cmap = 'seismic', aspect = 'auto')\n",
    "plt.yticks(range(len(protein_string)), protein_string)\n",
    "plt.colorbar()"
   ]
  },
  {
   "cell_type": "code",
   "execution_count": null,
   "id": "25ee1eb4-6895-47b9-92fb-4e577e238670",
   "metadata": {},
   "outputs": [],
   "source": [
    "from captum.attr import FeaturePermutation\n",
    "\n",
    "feature_permutation = FeaturePermutation(wrapped_model)\n",
    "\n",
    "#test_data0 = torch.tensor(seq_OH[50:60], dtype = torch.float32).to(args.DEVICE)\n",
    "\n",
    "attributions0 = feature_permutation.attribute(test_data.permute(0,2,1), show_progress = True, target = 0)\n",
    "\n",
    "attributions_values0 = attributions0.cpu().detach().numpy()\n",
    "\n",
    "plt.imshow(np.abs(attributions_values0.sum(axis=0)), cmap = 'hot', aspect = 'auto')\n",
    "plt.yticks(range(len(protein_string)), protein_string)\n",
    "plt.colorbar() "
   ]
  },
  {
   "cell_type": "code",
   "execution_count": null,
   "id": "bf1c1973-630d-4f71-911d-251df541d1d4",
   "metadata": {},
   "outputs": [],
   "source": [
    "from captum.attr import FeaturePermutation\n",
    "\n",
    "feature_permutation = FeaturePermutation(wrapped_model)\n",
    "\n",
    "#test_data0 = torch.tensor(seq_OH[50:60], dtype = torch.float32).to(args.DEVICE)\n",
    "\n",
    "attributions1 = feature_permutation.attribute(test_data.permute(0,2,1), show_progress = True, target = 1)\n",
    "\n",
    "attributions_values1 = attributions1.cpu().detach().numpy()\n",
    "\n",
    "plt.imshow(np.abs(attributions_values1.sum(axis=0)), cmap = 'hot', aspect = 'auto')\n",
    "plt.yticks(range(len(protein_string)), protein_string)\n",
    "plt.colorbar() "
   ]
  },
  {
   "cell_type": "code",
   "execution_count": null,
   "id": "3a8ff713-0717-4be7-9b4d-9998bfc5712c",
   "metadata": {},
   "outputs": [],
   "source": [
    "from captum.attr import FeaturePermutation\n",
    "\n",
    "feature_permutation = FeaturePermutation(wrapped_model)\n",
    "\n",
    "#test_data0 = torch.tensor(seq_OH[50:60], dtype = torch.float32).to(args.DEVICE)\n",
    "\n",
    "attributions2 = feature_permutation.attribute(test_data.permute(0,2,1), show_progress = True, target = 2)\n",
    "\n",
    "attributions_values2 = attributions2.cpu().detach().numpy()\n",
    "\n",
    "plt.imshow(np.abs(attributions_values2.sum(axis=0)), cmap = 'hot', aspect = 'auto')\n",
    "plt.yticks(range(len(protein_string)), protein_string)\n",
    "plt.colorbar() "
   ]
  },
  {
   "cell_type": "code",
   "execution_count": null,
   "id": "da0c07c7-a038-43e3-b7ac-21da3c0ad3e7",
   "metadata": {},
   "outputs": [],
   "source": [
    "attributions_value_final = np.abs(attributions_values0.sum(axis=0))+np.abs(attributions_values1.sum(axis=0))+np.abs(attributions_values2.sum(axis=0))\n",
    "plt.imshow(attributions_value_final, cmap = 'seismic', aspect = 'auto')\n",
    "plt.yticks(range(len(protein_string)), protein_string)\n",
    "plt.colorbar()"
   ]
  }
 ],
 "metadata": {
  "kernelspec": {
   "display_name": "Python 3 (ipykernel)",
   "language": "python",
   "name": "python3"
  },
  "language_info": {
   "codemirror_mode": {
    "name": "ipython",
    "version": 3
   },
   "file_extension": ".py",
   "mimetype": "text/x-python",
   "name": "python",
   "nbconvert_exporter": "python",
   "pygments_lexer": "ipython3",
   "version": "3.12.7"
  }
 },
 "nbformat": 4,
 "nbformat_minor": 5
}
